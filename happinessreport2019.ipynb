{
 "cells": [
  {
   "cell_type": "markdown",
   "metadata": {},
   "source": [
    "# Happiness Report Analysis #\n",
    "\n",
    "In this project, I worked on a 2017 Happiness Score Report to figure out three questions listed below. I used two datasets and you can get access to them from here:https://www.kaggle.com/unsdsn/world-happiness/data#2019.csv\n",
    "You might notice that there are datasets from 2018 and 2019, but I think that the datasets miss some columns, so I decided not to use them. \n",
    "\n",
    "Questions to explore:\n",
    "- what are main factors contributing to the increase of Happiness Score?\n",
    "- which regions in the world do have the highest average happiness scores? \n",
    "- Are there unique facotors contributing to making life evaluation higher in specific regions? \n",
    "\n",
    "A reason why I chose to work on this project is that since this is very first my personal project(did some guided projects though), I wanted to work on a dataset which does not require me to do a lot of context researches. Moreover, I was interested in those questions listed above. \n"
   ]
  },
  {
   "cell_type": "markdown",
   "metadata": {},
   "source": [
    "## Summary ##\n",
    "Q1\n",
    "- Based on my analysis, all of factors, listed in Happiness Score Report, except generosity contribute to the increse of life evaluation in each country. Especially, gdp_per_capita, family, and health factors are most influential factors of all since their correlatinos with Happiness scores are very strong. \n",
    "\n",
    "Q2\n",
    "- A region, which has the highest average happiness score, is Australia and New Zealand. 2nd is North America, and 3rd is Wesstern Europe. I guess that there is no surprise for this because they are economically prosperous and therefore have environments where people can live in healthy life. \n",
    "\n",
    "Q3\n",
    "- In Southeastern Asia, although gdp_per_capita and family are main factors, freedom and generosity seem to have more influencial to their life evaluation compared with other regions. In other regions, gdp_per_capita and family are main factors contributing to the increase of life evaluation. "
   ]
  },
  {
   "cell_type": "code",
   "execution_count": 1,
   "metadata": {},
   "outputs": [],
   "source": [
    "import pandas as pd \n",
    "import matplotlib.pyplot as plt \n",
    "import seaborn as sns\n",
    "%matplotlib inline "
   ]
  },
  {
   "cell_type": "code",
   "execution_count": 3,
   "metadata": {},
   "outputs": [],
   "source": [
    "happiness2017 = pd.read_csv('2017.csv')"
   ]
  },
  {
   "cell_type": "markdown",
   "metadata": {},
   "source": [
    "Store a csv file as happiness2017"
   ]
  },
  {
   "cell_type": "markdown",
   "metadata": {},
   "source": [
    "## Basic Information of happiness2017 ##"
   ]
  },
  {
   "cell_type": "code",
   "execution_count": 4,
   "metadata": {},
   "outputs": [
    {
     "data": {
      "text/plain": [
       "(155, 12)"
      ]
     },
     "execution_count": 4,
     "metadata": {},
     "output_type": "execute_result"
    }
   ],
   "source": [
    "happiness2017.shape"
   ]
  },
  {
   "cell_type": "markdown",
   "metadata": {},
   "source": [
    "There are 155 rows and 12 columns in this dataset. "
   ]
  },
  {
   "cell_type": "code",
   "execution_count": 5,
   "metadata": {},
   "outputs": [
    {
     "data": {
      "text/html": [
       "<div>\n",
       "<style scoped>\n",
       "    .dataframe tbody tr th:only-of-type {\n",
       "        vertical-align: middle;\n",
       "    }\n",
       "\n",
       "    .dataframe tbody tr th {\n",
       "        vertical-align: top;\n",
       "    }\n",
       "\n",
       "    .dataframe thead th {\n",
       "        text-align: right;\n",
       "    }\n",
       "</style>\n",
       "<table border=\"1\" class=\"dataframe\">\n",
       "  <thead>\n",
       "    <tr style=\"text-align: right;\">\n",
       "      <th></th>\n",
       "      <th>Country</th>\n",
       "      <th>Happiness.Rank</th>\n",
       "      <th>Happiness.Score</th>\n",
       "      <th>Whisker.high</th>\n",
       "      <th>Whisker.low</th>\n",
       "      <th>Economy..GDP.per.Capita.</th>\n",
       "      <th>Family</th>\n",
       "      <th>Health..Life.Expectancy.</th>\n",
       "      <th>Freedom</th>\n",
       "      <th>Generosity</th>\n",
       "      <th>Trust..Government.Corruption.</th>\n",
       "      <th>Dystopia.Residual</th>\n",
       "    </tr>\n",
       "  </thead>\n",
       "  <tbody>\n",
       "    <tr>\n",
       "      <th>0</th>\n",
       "      <td>Norway</td>\n",
       "      <td>1</td>\n",
       "      <td>7.537</td>\n",
       "      <td>7.594445</td>\n",
       "      <td>7.479556</td>\n",
       "      <td>1.616463</td>\n",
       "      <td>1.533524</td>\n",
       "      <td>0.796667</td>\n",
       "      <td>0.635423</td>\n",
       "      <td>0.362012</td>\n",
       "      <td>0.315964</td>\n",
       "      <td>2.277027</td>\n",
       "    </tr>\n",
       "    <tr>\n",
       "      <th>1</th>\n",
       "      <td>Denmark</td>\n",
       "      <td>2</td>\n",
       "      <td>7.522</td>\n",
       "      <td>7.581728</td>\n",
       "      <td>7.462272</td>\n",
       "      <td>1.482383</td>\n",
       "      <td>1.551122</td>\n",
       "      <td>0.792566</td>\n",
       "      <td>0.626007</td>\n",
       "      <td>0.355280</td>\n",
       "      <td>0.400770</td>\n",
       "      <td>2.313707</td>\n",
       "    </tr>\n",
       "    <tr>\n",
       "      <th>2</th>\n",
       "      <td>Iceland</td>\n",
       "      <td>3</td>\n",
       "      <td>7.504</td>\n",
       "      <td>7.622030</td>\n",
       "      <td>7.385970</td>\n",
       "      <td>1.480633</td>\n",
       "      <td>1.610574</td>\n",
       "      <td>0.833552</td>\n",
       "      <td>0.627163</td>\n",
       "      <td>0.475540</td>\n",
       "      <td>0.153527</td>\n",
       "      <td>2.322715</td>\n",
       "    </tr>\n",
       "    <tr>\n",
       "      <th>3</th>\n",
       "      <td>Switzerland</td>\n",
       "      <td>4</td>\n",
       "      <td>7.494</td>\n",
       "      <td>7.561772</td>\n",
       "      <td>7.426227</td>\n",
       "      <td>1.564980</td>\n",
       "      <td>1.516912</td>\n",
       "      <td>0.858131</td>\n",
       "      <td>0.620071</td>\n",
       "      <td>0.290549</td>\n",
       "      <td>0.367007</td>\n",
       "      <td>2.276716</td>\n",
       "    </tr>\n",
       "    <tr>\n",
       "      <th>4</th>\n",
       "      <td>Finland</td>\n",
       "      <td>5</td>\n",
       "      <td>7.469</td>\n",
       "      <td>7.527542</td>\n",
       "      <td>7.410458</td>\n",
       "      <td>1.443572</td>\n",
       "      <td>1.540247</td>\n",
       "      <td>0.809158</td>\n",
       "      <td>0.617951</td>\n",
       "      <td>0.245483</td>\n",
       "      <td>0.382612</td>\n",
       "      <td>2.430182</td>\n",
       "    </tr>\n",
       "  </tbody>\n",
       "</table>\n",
       "</div>"
      ],
      "text/plain": [
       "       Country  Happiness.Rank  Happiness.Score  Whisker.high  Whisker.low  \\\n",
       "0       Norway               1            7.537      7.594445     7.479556   \n",
       "1      Denmark               2            7.522      7.581728     7.462272   \n",
       "2      Iceland               3            7.504      7.622030     7.385970   \n",
       "3  Switzerland               4            7.494      7.561772     7.426227   \n",
       "4      Finland               5            7.469      7.527542     7.410458   \n",
       "\n",
       "   Economy..GDP.per.Capita.    Family  Health..Life.Expectancy.   Freedom  \\\n",
       "0                  1.616463  1.533524                  0.796667  0.635423   \n",
       "1                  1.482383  1.551122                  0.792566  0.626007   \n",
       "2                  1.480633  1.610574                  0.833552  0.627163   \n",
       "3                  1.564980  1.516912                  0.858131  0.620071   \n",
       "4                  1.443572  1.540247                  0.809158  0.617951   \n",
       "\n",
       "   Generosity  Trust..Government.Corruption.  Dystopia.Residual  \n",
       "0    0.362012                       0.315964           2.277027  \n",
       "1    0.355280                       0.400770           2.313707  \n",
       "2    0.475540                       0.153527           2.322715  \n",
       "3    0.290549                       0.367007           2.276716  \n",
       "4    0.245483                       0.382612           2.430182  "
      ]
     },
     "execution_count": 5,
     "metadata": {},
     "output_type": "execute_result"
    }
   ],
   "source": [
    "happiness2017.head()"
   ]
  },
  {
   "cell_type": "markdown",
   "metadata": {},
   "source": [
    "### About values in columns ###\n",
    "- **Happiness.Rank** indicate happiness score (0-10)\n",
    "- Values in columns from **Economy..GDP.per.Capita** to **Generosity** describe the extent to which each of six factors contribute to making life evaluations higher in each country than they are in Dystopia. Dystopis is an imaginary country whose six factors are equal to world’s lowest national averages for each of the six factors. Sinmply, it is the least happy country. \n",
    "\n",
    "For instance, in Norway, **Economy..GDP.per.Capita** is the biggest contributor to making its Happiness evaluation higher. \n",
    "\n",
    "Note: World Happiness report mentioned that \"note that we do not construct our happiness measure in each country using these six factors\". They are just telling the extents. "
   ]
  },
  {
   "cell_type": "markdown",
   "metadata": {},
   "source": [
    "### Exploration ###"
   ]
  },
  {
   "cell_type": "code",
   "execution_count": 6,
   "metadata": {},
   "outputs": [],
   "source": [
    "#replaced white spaces with underscore \n",
    "happiness2017.columns = happiness2017.columns.str.lower()"
   ]
  },
  {
   "cell_type": "markdown",
   "metadata": {},
   "source": [
    "I lowered all letters since I personally think that it makes easire for me to work with this dataset"
   ]
  },
  {
   "cell_type": "code",
   "execution_count": 7,
   "metadata": {},
   "outputs": [
    {
     "data": {
      "text/html": [
       "<div>\n",
       "<style scoped>\n",
       "    .dataframe tbody tr th:only-of-type {\n",
       "        vertical-align: middle;\n",
       "    }\n",
       "\n",
       "    .dataframe tbody tr th {\n",
       "        vertical-align: top;\n",
       "    }\n",
       "\n",
       "    .dataframe thead th {\n",
       "        text-align: right;\n",
       "    }\n",
       "</style>\n",
       "<table border=\"1\" class=\"dataframe\">\n",
       "  <thead>\n",
       "    <tr style=\"text-align: right;\">\n",
       "      <th></th>\n",
       "      <th>country</th>\n",
       "      <th>happiness.rank</th>\n",
       "      <th>happiness.score</th>\n",
       "      <th>whisker.high</th>\n",
       "      <th>whisker.low</th>\n",
       "      <th>economy..gdp.per.capita.</th>\n",
       "      <th>family</th>\n",
       "      <th>health..life.expectancy.</th>\n",
       "      <th>freedom</th>\n",
       "      <th>generosity</th>\n",
       "      <th>trust..government.corruption.</th>\n",
       "      <th>dystopia.residual</th>\n",
       "    </tr>\n",
       "  </thead>\n",
       "  <tbody>\n",
       "    <tr>\n",
       "      <th>0</th>\n",
       "      <td>Norway</td>\n",
       "      <td>1</td>\n",
       "      <td>7.537</td>\n",
       "      <td>7.594445</td>\n",
       "      <td>7.479556</td>\n",
       "      <td>1.616463</td>\n",
       "      <td>1.533524</td>\n",
       "      <td>0.796667</td>\n",
       "      <td>0.635423</td>\n",
       "      <td>0.362012</td>\n",
       "      <td>0.315964</td>\n",
       "      <td>2.277027</td>\n",
       "    </tr>\n",
       "    <tr>\n",
       "      <th>1</th>\n",
       "      <td>Denmark</td>\n",
       "      <td>2</td>\n",
       "      <td>7.522</td>\n",
       "      <td>7.581728</td>\n",
       "      <td>7.462272</td>\n",
       "      <td>1.482383</td>\n",
       "      <td>1.551122</td>\n",
       "      <td>0.792566</td>\n",
       "      <td>0.626007</td>\n",
       "      <td>0.355280</td>\n",
       "      <td>0.400770</td>\n",
       "      <td>2.313707</td>\n",
       "    </tr>\n",
       "    <tr>\n",
       "      <th>2</th>\n",
       "      <td>Iceland</td>\n",
       "      <td>3</td>\n",
       "      <td>7.504</td>\n",
       "      <td>7.622030</td>\n",
       "      <td>7.385970</td>\n",
       "      <td>1.480633</td>\n",
       "      <td>1.610574</td>\n",
       "      <td>0.833552</td>\n",
       "      <td>0.627163</td>\n",
       "      <td>0.475540</td>\n",
       "      <td>0.153527</td>\n",
       "      <td>2.322715</td>\n",
       "    </tr>\n",
       "    <tr>\n",
       "      <th>3</th>\n",
       "      <td>Switzerland</td>\n",
       "      <td>4</td>\n",
       "      <td>7.494</td>\n",
       "      <td>7.561772</td>\n",
       "      <td>7.426227</td>\n",
       "      <td>1.564980</td>\n",
       "      <td>1.516912</td>\n",
       "      <td>0.858131</td>\n",
       "      <td>0.620071</td>\n",
       "      <td>0.290549</td>\n",
       "      <td>0.367007</td>\n",
       "      <td>2.276716</td>\n",
       "    </tr>\n",
       "    <tr>\n",
       "      <th>4</th>\n",
       "      <td>Finland</td>\n",
       "      <td>5</td>\n",
       "      <td>7.469</td>\n",
       "      <td>7.527542</td>\n",
       "      <td>7.410458</td>\n",
       "      <td>1.443572</td>\n",
       "      <td>1.540247</td>\n",
       "      <td>0.809158</td>\n",
       "      <td>0.617951</td>\n",
       "      <td>0.245483</td>\n",
       "      <td>0.382612</td>\n",
       "      <td>2.430182</td>\n",
       "    </tr>\n",
       "  </tbody>\n",
       "</table>\n",
       "</div>"
      ],
      "text/plain": [
       "       country  happiness.rank  happiness.score  whisker.high  whisker.low  \\\n",
       "0       Norway               1            7.537      7.594445     7.479556   \n",
       "1      Denmark               2            7.522      7.581728     7.462272   \n",
       "2      Iceland               3            7.504      7.622030     7.385970   \n",
       "3  Switzerland               4            7.494      7.561772     7.426227   \n",
       "4      Finland               5            7.469      7.527542     7.410458   \n",
       "\n",
       "   economy..gdp.per.capita.    family  health..life.expectancy.   freedom  \\\n",
       "0                  1.616463  1.533524                  0.796667  0.635423   \n",
       "1                  1.482383  1.551122                  0.792566  0.626007   \n",
       "2                  1.480633  1.610574                  0.833552  0.627163   \n",
       "3                  1.564980  1.516912                  0.858131  0.620071   \n",
       "4                  1.443572  1.540247                  0.809158  0.617951   \n",
       "\n",
       "   generosity  trust..government.corruption.  dystopia.residual  \n",
       "0    0.362012                       0.315964           2.277027  \n",
       "1    0.355280                       0.400770           2.313707  \n",
       "2    0.475540                       0.153527           2.322715  \n",
       "3    0.290549                       0.367007           2.276716  \n",
       "4    0.245483                       0.382612           2.430182  "
      ]
     },
     "execution_count": 7,
     "metadata": {},
     "output_type": "execute_result"
    }
   ],
   "source": [
    "happiness2017.head()"
   ]
  },
  {
   "cell_type": "code",
   "execution_count": 8,
   "metadata": {},
   "outputs": [],
   "source": [
    "renaming = {'happiness.rank':\"rank\",\"happiness.score\":\"score\",'economy..gdp.per.capita.':'gdp_capita',\n",
    "            'health..life.expectancy.':'health','trust..government.corruption.':'trust'}\n",
    "happiness2017.rename(renaming,axis =1,inplace=True)"
   ]
  },
  {
   "cell_type": "markdown",
   "metadata": {},
   "source": [
    "Renamed columns"
   ]
  },
  {
   "cell_type": "code",
   "execution_count": 9,
   "metadata": {},
   "outputs": [
    {
     "data": {
      "text/html": [
       "<div>\n",
       "<style scoped>\n",
       "    .dataframe tbody tr th:only-of-type {\n",
       "        vertical-align: middle;\n",
       "    }\n",
       "\n",
       "    .dataframe tbody tr th {\n",
       "        vertical-align: top;\n",
       "    }\n",
       "\n",
       "    .dataframe thead th {\n",
       "        text-align: right;\n",
       "    }\n",
       "</style>\n",
       "<table border=\"1\" class=\"dataframe\">\n",
       "  <thead>\n",
       "    <tr style=\"text-align: right;\">\n",
       "      <th></th>\n",
       "      <th>country</th>\n",
       "      <th>rank</th>\n",
       "      <th>score</th>\n",
       "      <th>whisker.high</th>\n",
       "      <th>whisker.low</th>\n",
       "      <th>gdp_capita</th>\n",
       "      <th>family</th>\n",
       "      <th>health</th>\n",
       "      <th>freedom</th>\n",
       "      <th>generosity</th>\n",
       "      <th>trust</th>\n",
       "      <th>dystopia.residual</th>\n",
       "    </tr>\n",
       "  </thead>\n",
       "  <tbody>\n",
       "    <tr>\n",
       "      <th>0</th>\n",
       "      <td>Norway</td>\n",
       "      <td>1</td>\n",
       "      <td>7.537</td>\n",
       "      <td>7.594445</td>\n",
       "      <td>7.479556</td>\n",
       "      <td>1.616463</td>\n",
       "      <td>1.533524</td>\n",
       "      <td>0.796667</td>\n",
       "      <td>0.635423</td>\n",
       "      <td>0.362012</td>\n",
       "      <td>0.315964</td>\n",
       "      <td>2.277027</td>\n",
       "    </tr>\n",
       "    <tr>\n",
       "      <th>1</th>\n",
       "      <td>Denmark</td>\n",
       "      <td>2</td>\n",
       "      <td>7.522</td>\n",
       "      <td>7.581728</td>\n",
       "      <td>7.462272</td>\n",
       "      <td>1.482383</td>\n",
       "      <td>1.551122</td>\n",
       "      <td>0.792566</td>\n",
       "      <td>0.626007</td>\n",
       "      <td>0.355280</td>\n",
       "      <td>0.400770</td>\n",
       "      <td>2.313707</td>\n",
       "    </tr>\n",
       "    <tr>\n",
       "      <th>2</th>\n",
       "      <td>Iceland</td>\n",
       "      <td>3</td>\n",
       "      <td>7.504</td>\n",
       "      <td>7.622030</td>\n",
       "      <td>7.385970</td>\n",
       "      <td>1.480633</td>\n",
       "      <td>1.610574</td>\n",
       "      <td>0.833552</td>\n",
       "      <td>0.627163</td>\n",
       "      <td>0.475540</td>\n",
       "      <td>0.153527</td>\n",
       "      <td>2.322715</td>\n",
       "    </tr>\n",
       "    <tr>\n",
       "      <th>3</th>\n",
       "      <td>Switzerland</td>\n",
       "      <td>4</td>\n",
       "      <td>7.494</td>\n",
       "      <td>7.561772</td>\n",
       "      <td>7.426227</td>\n",
       "      <td>1.564980</td>\n",
       "      <td>1.516912</td>\n",
       "      <td>0.858131</td>\n",
       "      <td>0.620071</td>\n",
       "      <td>0.290549</td>\n",
       "      <td>0.367007</td>\n",
       "      <td>2.276716</td>\n",
       "    </tr>\n",
       "    <tr>\n",
       "      <th>4</th>\n",
       "      <td>Finland</td>\n",
       "      <td>5</td>\n",
       "      <td>7.469</td>\n",
       "      <td>7.527542</td>\n",
       "      <td>7.410458</td>\n",
       "      <td>1.443572</td>\n",
       "      <td>1.540247</td>\n",
       "      <td>0.809158</td>\n",
       "      <td>0.617951</td>\n",
       "      <td>0.245483</td>\n",
       "      <td>0.382612</td>\n",
       "      <td>2.430182</td>\n",
       "    </tr>\n",
       "  </tbody>\n",
       "</table>\n",
       "</div>"
      ],
      "text/plain": [
       "       country  rank  score  whisker.high  whisker.low  gdp_capita    family  \\\n",
       "0       Norway     1  7.537      7.594445     7.479556    1.616463  1.533524   \n",
       "1      Denmark     2  7.522      7.581728     7.462272    1.482383  1.551122   \n",
       "2      Iceland     3  7.504      7.622030     7.385970    1.480633  1.610574   \n",
       "3  Switzerland     4  7.494      7.561772     7.426227    1.564980  1.516912   \n",
       "4      Finland     5  7.469      7.527542     7.410458    1.443572  1.540247   \n",
       "\n",
       "     health   freedom  generosity     trust  dystopia.residual  \n",
       "0  0.796667  0.635423    0.362012  0.315964           2.277027  \n",
       "1  0.792566  0.626007    0.355280  0.400770           2.313707  \n",
       "2  0.833552  0.627163    0.475540  0.153527           2.322715  \n",
       "3  0.858131  0.620071    0.290549  0.367007           2.276716  \n",
       "4  0.809158  0.617951    0.245483  0.382612           2.430182  "
      ]
     },
     "execution_count": 9,
     "metadata": {},
     "output_type": "execute_result"
    }
   ],
   "source": [
    "happiness2017.head()"
   ]
  },
  {
   "cell_type": "code",
   "execution_count": 10,
   "metadata": {},
   "outputs": [
    {
     "data": {
      "text/plain": [
       "country               object\n",
       "rank                   int64\n",
       "score                float64\n",
       "whisker.high         float64\n",
       "whisker.low          float64\n",
       "gdp_capita           float64\n",
       "family               float64\n",
       "health               float64\n",
       "freedom              float64\n",
       "generosity           float64\n",
       "trust                float64\n",
       "dystopia.residual    float64\n",
       "dtype: object"
      ]
     },
     "execution_count": 10,
     "metadata": {},
     "output_type": "execute_result"
    }
   ],
   "source": [
    "happiness2017.dtypes"
   ]
  },
  {
   "cell_type": "markdown",
   "metadata": {},
   "source": [
    "There is not variation of dtypes in this dataset. Almost all columns are float. "
   ]
  },
  {
   "cell_type": "code",
   "execution_count": 11,
   "metadata": {},
   "outputs": [
    {
     "data": {
      "text/plain": [
       "country              0\n",
       "rank                 0\n",
       "score                0\n",
       "whisker.high         0\n",
       "whisker.low          0\n",
       "gdp_capita           0\n",
       "family               0\n",
       "health               0\n",
       "freedom              0\n",
       "generosity           0\n",
       "trust                0\n",
       "dystopia.residual    0\n",
       "dtype: int64"
      ]
     },
     "execution_count": 11,
     "metadata": {},
     "output_type": "execute_result"
    }
   ],
   "source": [
    "happiness2017.isnull().sum()"
   ]
  },
  {
   "cell_type": "markdown",
   "metadata": {},
   "source": [
    "There is no null values in each column, so this data set seems like it is very clean. "
   ]
  },
  {
   "cell_type": "code",
   "execution_count": 12,
   "metadata": {},
   "outputs": [
    {
     "data": {
      "text/html": [
       "<div>\n",
       "<style scoped>\n",
       "    .dataframe tbody tr th:only-of-type {\n",
       "        vertical-align: middle;\n",
       "    }\n",
       "\n",
       "    .dataframe tbody tr th {\n",
       "        vertical-align: top;\n",
       "    }\n",
       "\n",
       "    .dataframe thead th {\n",
       "        text-align: right;\n",
       "    }\n",
       "</style>\n",
       "<table border=\"1\" class=\"dataframe\">\n",
       "  <thead>\n",
       "    <tr style=\"text-align: right;\">\n",
       "      <th></th>\n",
       "      <th>rank</th>\n",
       "      <th>score</th>\n",
       "      <th>whisker.high</th>\n",
       "      <th>whisker.low</th>\n",
       "      <th>gdp_capita</th>\n",
       "      <th>family</th>\n",
       "      <th>health</th>\n",
       "      <th>freedom</th>\n",
       "      <th>generosity</th>\n",
       "      <th>trust</th>\n",
       "      <th>dystopia.residual</th>\n",
       "    </tr>\n",
       "  </thead>\n",
       "  <tbody>\n",
       "    <tr>\n",
       "      <th>count</th>\n",
       "      <td>155.000000</td>\n",
       "      <td>155.000000</td>\n",
       "      <td>155.000000</td>\n",
       "      <td>155.000000</td>\n",
       "      <td>155.000000</td>\n",
       "      <td>155.000000</td>\n",
       "      <td>155.000000</td>\n",
       "      <td>155.000000</td>\n",
       "      <td>155.000000</td>\n",
       "      <td>155.000000</td>\n",
       "      <td>155.000000</td>\n",
       "    </tr>\n",
       "    <tr>\n",
       "      <th>mean</th>\n",
       "      <td>78.000000</td>\n",
       "      <td>5.354019</td>\n",
       "      <td>5.452326</td>\n",
       "      <td>5.255713</td>\n",
       "      <td>0.984718</td>\n",
       "      <td>1.188898</td>\n",
       "      <td>0.551341</td>\n",
       "      <td>0.408786</td>\n",
       "      <td>0.246883</td>\n",
       "      <td>0.123120</td>\n",
       "      <td>1.850238</td>\n",
       "    </tr>\n",
       "    <tr>\n",
       "      <th>std</th>\n",
       "      <td>44.888751</td>\n",
       "      <td>1.131230</td>\n",
       "      <td>1.118542</td>\n",
       "      <td>1.145030</td>\n",
       "      <td>0.420793</td>\n",
       "      <td>0.287263</td>\n",
       "      <td>0.237073</td>\n",
       "      <td>0.149997</td>\n",
       "      <td>0.134780</td>\n",
       "      <td>0.101661</td>\n",
       "      <td>0.500028</td>\n",
       "    </tr>\n",
       "    <tr>\n",
       "      <th>min</th>\n",
       "      <td>1.000000</td>\n",
       "      <td>2.693000</td>\n",
       "      <td>2.864884</td>\n",
       "      <td>2.521116</td>\n",
       "      <td>0.000000</td>\n",
       "      <td>0.000000</td>\n",
       "      <td>0.000000</td>\n",
       "      <td>0.000000</td>\n",
       "      <td>0.000000</td>\n",
       "      <td>0.000000</td>\n",
       "      <td>0.377914</td>\n",
       "    </tr>\n",
       "    <tr>\n",
       "      <th>25%</th>\n",
       "      <td>39.500000</td>\n",
       "      <td>4.505500</td>\n",
       "      <td>4.608172</td>\n",
       "      <td>4.374955</td>\n",
       "      <td>0.663371</td>\n",
       "      <td>1.042635</td>\n",
       "      <td>0.369866</td>\n",
       "      <td>0.303677</td>\n",
       "      <td>0.154106</td>\n",
       "      <td>0.057271</td>\n",
       "      <td>1.591291</td>\n",
       "    </tr>\n",
       "    <tr>\n",
       "      <th>50%</th>\n",
       "      <td>78.000000</td>\n",
       "      <td>5.279000</td>\n",
       "      <td>5.370032</td>\n",
       "      <td>5.193152</td>\n",
       "      <td>1.064578</td>\n",
       "      <td>1.253918</td>\n",
       "      <td>0.606042</td>\n",
       "      <td>0.437454</td>\n",
       "      <td>0.231538</td>\n",
       "      <td>0.089848</td>\n",
       "      <td>1.832910</td>\n",
       "    </tr>\n",
       "    <tr>\n",
       "      <th>75%</th>\n",
       "      <td>116.500000</td>\n",
       "      <td>6.101500</td>\n",
       "      <td>6.194600</td>\n",
       "      <td>6.006527</td>\n",
       "      <td>1.318027</td>\n",
       "      <td>1.414316</td>\n",
       "      <td>0.723008</td>\n",
       "      <td>0.516561</td>\n",
       "      <td>0.323762</td>\n",
       "      <td>0.153296</td>\n",
       "      <td>2.144654</td>\n",
       "    </tr>\n",
       "    <tr>\n",
       "      <th>max</th>\n",
       "      <td>155.000000</td>\n",
       "      <td>7.537000</td>\n",
       "      <td>7.622030</td>\n",
       "      <td>7.479556</td>\n",
       "      <td>1.870766</td>\n",
       "      <td>1.610574</td>\n",
       "      <td>0.949492</td>\n",
       "      <td>0.658249</td>\n",
       "      <td>0.838075</td>\n",
       "      <td>0.464308</td>\n",
       "      <td>3.117485</td>\n",
       "    </tr>\n",
       "  </tbody>\n",
       "</table>\n",
       "</div>"
      ],
      "text/plain": [
       "             rank       score  whisker.high  whisker.low  gdp_capita  \\\n",
       "count  155.000000  155.000000    155.000000   155.000000  155.000000   \n",
       "mean    78.000000    5.354019      5.452326     5.255713    0.984718   \n",
       "std     44.888751    1.131230      1.118542     1.145030    0.420793   \n",
       "min      1.000000    2.693000      2.864884     2.521116    0.000000   \n",
       "25%     39.500000    4.505500      4.608172     4.374955    0.663371   \n",
       "50%     78.000000    5.279000      5.370032     5.193152    1.064578   \n",
       "75%    116.500000    6.101500      6.194600     6.006527    1.318027   \n",
       "max    155.000000    7.537000      7.622030     7.479556    1.870766   \n",
       "\n",
       "           family      health     freedom  generosity       trust  \\\n",
       "count  155.000000  155.000000  155.000000  155.000000  155.000000   \n",
       "mean     1.188898    0.551341    0.408786    0.246883    0.123120   \n",
       "std      0.287263    0.237073    0.149997    0.134780    0.101661   \n",
       "min      0.000000    0.000000    0.000000    0.000000    0.000000   \n",
       "25%      1.042635    0.369866    0.303677    0.154106    0.057271   \n",
       "50%      1.253918    0.606042    0.437454    0.231538    0.089848   \n",
       "75%      1.414316    0.723008    0.516561    0.323762    0.153296   \n",
       "max      1.610574    0.949492    0.658249    0.838075    0.464308   \n",
       "\n",
       "       dystopia.residual  \n",
       "count         155.000000  \n",
       "mean            1.850238  \n",
       "std             0.500028  \n",
       "min             0.377914  \n",
       "25%             1.591291  \n",
       "50%             1.832910  \n",
       "75%             2.144654  \n",
       "max             3.117485  "
      ]
     },
     "execution_count": 12,
     "metadata": {},
     "output_type": "execute_result"
    }
   ],
   "source": [
    "happiness2017.describe()"
   ]
  },
  {
   "cell_type": "code",
   "execution_count": 13,
   "metadata": {},
   "outputs": [
    {
     "data": {
      "text/html": [
       "<div>\n",
       "<style scoped>\n",
       "    .dataframe tbody tr th:only-of-type {\n",
       "        vertical-align: middle;\n",
       "    }\n",
       "\n",
       "    .dataframe tbody tr th {\n",
       "        vertical-align: top;\n",
       "    }\n",
       "\n",
       "    .dataframe thead th {\n",
       "        text-align: right;\n",
       "    }\n",
       "</style>\n",
       "<table border=\"1\" class=\"dataframe\">\n",
       "  <thead>\n",
       "    <tr style=\"text-align: right;\">\n",
       "      <th></th>\n",
       "      <th>country</th>\n",
       "      <th>rank</th>\n",
       "      <th>score</th>\n",
       "      <th>whisker.high</th>\n",
       "      <th>whisker.low</th>\n",
       "      <th>gdp_capita</th>\n",
       "      <th>family</th>\n",
       "      <th>health</th>\n",
       "      <th>freedom</th>\n",
       "      <th>generosity</th>\n",
       "      <th>trust</th>\n",
       "      <th>dystopia.residual</th>\n",
       "    </tr>\n",
       "  </thead>\n",
       "  <tbody>\n",
       "    <tr>\n",
       "      <th>86</th>\n",
       "      <td>Greece</td>\n",
       "      <td>87</td>\n",
       "      <td>5.227</td>\n",
       "      <td>5.325246</td>\n",
       "      <td>5.128754</td>\n",
       "      <td>1.289487</td>\n",
       "      <td>1.239415</td>\n",
       "      <td>0.810199</td>\n",
       "      <td>0.095731</td>\n",
       "      <td>0.000000</td>\n",
       "      <td>0.043290</td>\n",
       "      <td>1.749222</td>\n",
       "    </tr>\n",
       "    <tr>\n",
       "      <th>89</th>\n",
       "      <td>Bosnia and Herzegovina</td>\n",
       "      <td>90</td>\n",
       "      <td>5.182</td>\n",
       "      <td>5.276336</td>\n",
       "      <td>5.087665</td>\n",
       "      <td>0.982409</td>\n",
       "      <td>1.069336</td>\n",
       "      <td>0.705186</td>\n",
       "      <td>0.204403</td>\n",
       "      <td>0.328867</td>\n",
       "      <td>0.000000</td>\n",
       "      <td>1.892173</td>\n",
       "    </tr>\n",
       "    <tr>\n",
       "      <th>138</th>\n",
       "      <td>Lesotho</td>\n",
       "      <td>139</td>\n",
       "      <td>3.808</td>\n",
       "      <td>4.044344</td>\n",
       "      <td>3.571656</td>\n",
       "      <td>0.521021</td>\n",
       "      <td>1.190095</td>\n",
       "      <td>0.000000</td>\n",
       "      <td>0.390661</td>\n",
       "      <td>0.157497</td>\n",
       "      <td>0.119095</td>\n",
       "      <td>1.429835</td>\n",
       "    </tr>\n",
       "    <tr>\n",
       "      <th>139</th>\n",
       "      <td>Angola</td>\n",
       "      <td>140</td>\n",
       "      <td>3.795</td>\n",
       "      <td>3.951642</td>\n",
       "      <td>3.638358</td>\n",
       "      <td>0.858428</td>\n",
       "      <td>1.104412</td>\n",
       "      <td>0.049869</td>\n",
       "      <td>0.000000</td>\n",
       "      <td>0.097926</td>\n",
       "      <td>0.069720</td>\n",
       "      <td>1.614482</td>\n",
       "    </tr>\n",
       "    <tr>\n",
       "      <th>154</th>\n",
       "      <td>Central African Republic</td>\n",
       "      <td>155</td>\n",
       "      <td>2.693</td>\n",
       "      <td>2.864884</td>\n",
       "      <td>2.521116</td>\n",
       "      <td>0.000000</td>\n",
       "      <td>0.000000</td>\n",
       "      <td>0.018773</td>\n",
       "      <td>0.270842</td>\n",
       "      <td>0.280876</td>\n",
       "      <td>0.056565</td>\n",
       "      <td>2.066005</td>\n",
       "    </tr>\n",
       "  </tbody>\n",
       "</table>\n",
       "</div>"
      ],
      "text/plain": [
       "                      country  rank  score  whisker.high  whisker.low  \\\n",
       "86                     Greece    87  5.227      5.325246     5.128754   \n",
       "89     Bosnia and Herzegovina    90  5.182      5.276336     5.087665   \n",
       "138                   Lesotho   139  3.808      4.044344     3.571656   \n",
       "139                    Angola   140  3.795      3.951642     3.638358   \n",
       "154  Central African Republic   155  2.693      2.864884     2.521116   \n",
       "\n",
       "     gdp_capita    family    health   freedom  generosity     trust  \\\n",
       "86     1.289487  1.239415  0.810199  0.095731    0.000000  0.043290   \n",
       "89     0.982409  1.069336  0.705186  0.204403    0.328867  0.000000   \n",
       "138    0.521021  1.190095  0.000000  0.390661    0.157497  0.119095   \n",
       "139    0.858428  1.104412  0.049869  0.000000    0.097926  0.069720   \n",
       "154    0.000000  0.000000  0.018773  0.270842    0.280876  0.056565   \n",
       "\n",
       "     dystopia.residual  \n",
       "86            1.749222  \n",
       "89            1.892173  \n",
       "138           1.429835  \n",
       "139           1.614482  \n",
       "154           2.066005  "
      ]
     },
     "execution_count": 13,
     "metadata": {},
     "output_type": "execute_result"
    }
   ],
   "source": [
    "happiness2017[(happiness2017['gdp_capita']==0) | (happiness2017['family']==0)|\n",
    "              (happiness2017['health']==0) | (happiness2017['freedom']==0)|\n",
    "              (happiness2017['generosity']==0) | (happiness2017['trust']==0)]\n"
   ]
  },
  {
   "cell_type": "markdown",
   "metadata": {},
   "source": [
    "Because it is odd to me that there are 0s at minimum in each of 6 factors contributing to happiness rank, I checked which countries have the values. It might not be unusual to have those values in these countries. For instance, according to Wikipedia, Central Afrrican Republic has one of the poorest population. "
   ]
  },
  {
   "cell_type": "code",
   "execution_count": 14,
   "metadata": {},
   "outputs": [],
   "source": [
    "happiness2017.drop(['whisker.high','whisker.low','dystopia.residual'],inplace=True, axis = 1)"
   ]
  },
  {
   "cell_type": "markdown",
   "metadata": {},
   "source": [
    "Since these three columns do not contribute to happiness meaasurement of each country, I dropped them."
   ]
  },
  {
   "cell_type": "markdown",
   "metadata": {},
   "source": [
    "## Main Factors Contributing to Happiness Scores ##"
   ]
  },
  {
   "cell_type": "markdown",
   "metadata": {},
   "source": [
    "From now on, I will find main foctors contributing to making Happiness scores higher. To find relationships, I will calculate corralation between Hapiness score and each of six factors. "
   ]
  },
  {
   "cell_type": "code",
   "execution_count": 15,
   "metadata": {},
   "outputs": [
    {
     "data": {
      "image/png": "[encoded data removed]",
      "text/plain": [
       "<Figure size 720x720 with 6 Axes>"
      ]
     },
     "metadata": {
      "needs_background": "light"
     },
     "output_type": "display_data"
    }
   ],
   "source": [
    "fig = plt.figure(figsize=(10,10))\n",
    "\n",
    "num = 1\n",
    "for label in happiness2017.columns[3:9]: \n",
    "    ax = fig.add_subplot(2,3,num)\n",
    "    plt.scatter(happiness2017['score'],happiness2017[label])\n",
    "    plt.title(label,loc='center')\n",
    "    num +=1\n",
    "plt.show()"
   ]
  },
  {
   "cell_type": "code",
   "execution_count": 16,
   "metadata": {},
   "outputs": [],
   "source": [
    "correlation=happiness2017.corr()"
   ]
  },
  {
   "cell_type": "code",
   "execution_count": 17,
   "metadata": {},
   "outputs": [
    {
     "data": {
      "text/html": [
       "<div>\n",
       "<style scoped>\n",
       "    .dataframe tbody tr th:only-of-type {\n",
       "        vertical-align: middle;\n",
       "    }\n",
       "\n",
       "    .dataframe tbody tr th {\n",
       "        vertical-align: top;\n",
       "    }\n",
       "\n",
       "    .dataframe thead th {\n",
       "        text-align: right;\n",
       "    }\n",
       "</style>\n",
       "<table border=\"1\" class=\"dataframe\">\n",
       "  <thead>\n",
       "    <tr style=\"text-align: right;\">\n",
       "      <th></th>\n",
       "      <th>rank</th>\n",
       "      <th>score</th>\n",
       "      <th>gdp_capita</th>\n",
       "      <th>family</th>\n",
       "      <th>health</th>\n",
       "      <th>freedom</th>\n",
       "      <th>generosity</th>\n",
       "      <th>trust</th>\n",
       "    </tr>\n",
       "  </thead>\n",
       "  <tbody>\n",
       "    <tr>\n",
       "      <th>rank</th>\n",
       "      <td>1.000000</td>\n",
       "      <td>-0.992774</td>\n",
       "      <td>-0.813244</td>\n",
       "      <td>-0.736753</td>\n",
       "      <td>-0.780716</td>\n",
       "      <td>-0.551608</td>\n",
       "      <td>-0.132620</td>\n",
       "      <td>-0.405842</td>\n",
       "    </tr>\n",
       "    <tr>\n",
       "      <th>score</th>\n",
       "      <td>-0.992774</td>\n",
       "      <td>1.000000</td>\n",
       "      <td>0.812469</td>\n",
       "      <td>0.752737</td>\n",
       "      <td>0.781951</td>\n",
       "      <td>0.570137</td>\n",
       "      <td>0.155256</td>\n",
       "      <td>0.429080</td>\n",
       "    </tr>\n",
       "    <tr>\n",
       "      <th>gdp_capita</th>\n",
       "      <td>-0.813244</td>\n",
       "      <td>0.812469</td>\n",
       "      <td>1.000000</td>\n",
       "      <td>0.688296</td>\n",
       "      <td>0.843077</td>\n",
       "      <td>0.369873</td>\n",
       "      <td>-0.019011</td>\n",
       "      <td>0.350944</td>\n",
       "    </tr>\n",
       "    <tr>\n",
       "      <th>family</th>\n",
       "      <td>-0.736753</td>\n",
       "      <td>0.752737</td>\n",
       "      <td>0.688296</td>\n",
       "      <td>1.000000</td>\n",
       "      <td>0.612080</td>\n",
       "      <td>0.424966</td>\n",
       "      <td>0.051693</td>\n",
       "      <td>0.231841</td>\n",
       "    </tr>\n",
       "    <tr>\n",
       "      <th>health</th>\n",
       "      <td>-0.780716</td>\n",
       "      <td>0.781951</td>\n",
       "      <td>0.843077</td>\n",
       "      <td>0.612080</td>\n",
       "      <td>1.000000</td>\n",
       "      <td>0.349827</td>\n",
       "      <td>0.063191</td>\n",
       "      <td>0.279752</td>\n",
       "    </tr>\n",
       "    <tr>\n",
       "      <th>freedom</th>\n",
       "      <td>-0.551608</td>\n",
       "      <td>0.570137</td>\n",
       "      <td>0.369873</td>\n",
       "      <td>0.424966</td>\n",
       "      <td>0.349827</td>\n",
       "      <td>1.000000</td>\n",
       "      <td>0.316083</td>\n",
       "      <td>0.499183</td>\n",
       "    </tr>\n",
       "    <tr>\n",
       "      <th>generosity</th>\n",
       "      <td>-0.132620</td>\n",
       "      <td>0.155256</td>\n",
       "      <td>-0.019011</td>\n",
       "      <td>0.051693</td>\n",
       "      <td>0.063191</td>\n",
       "      <td>0.316083</td>\n",
       "      <td>1.000000</td>\n",
       "      <td>0.294159</td>\n",
       "    </tr>\n",
       "    <tr>\n",
       "      <th>trust</th>\n",
       "      <td>-0.405842</td>\n",
       "      <td>0.429080</td>\n",
       "      <td>0.350944</td>\n",
       "      <td>0.231841</td>\n",
       "      <td>0.279752</td>\n",
       "      <td>0.499183</td>\n",
       "      <td>0.294159</td>\n",
       "      <td>1.000000</td>\n",
       "    </tr>\n",
       "  </tbody>\n",
       "</table>\n",
       "</div>"
      ],
      "text/plain": [
       "                rank     score  gdp_capita    family    health   freedom  \\\n",
       "rank        1.000000 -0.992774   -0.813244 -0.736753 -0.780716 -0.551608   \n",
       "score      -0.992774  1.000000    0.812469  0.752737  0.781951  0.570137   \n",
       "gdp_capita -0.813244  0.812469    1.000000  0.688296  0.843077  0.369873   \n",
       "family     -0.736753  0.752737    0.688296  1.000000  0.612080  0.424966   \n",
       "health     -0.780716  0.781951    0.843077  0.612080  1.000000  0.349827   \n",
       "freedom    -0.551608  0.570137    0.369873  0.424966  0.349827  1.000000   \n",
       "generosity -0.132620  0.155256   -0.019011  0.051693  0.063191  0.316083   \n",
       "trust      -0.405842  0.429080    0.350944  0.231841  0.279752  0.499183   \n",
       "\n",
       "            generosity     trust  \n",
       "rank         -0.132620 -0.405842  \n",
       "score         0.155256  0.429080  \n",
       "gdp_capita   -0.019011  0.350944  \n",
       "family        0.051693  0.231841  \n",
       "health        0.063191  0.279752  \n",
       "freedom       0.316083  0.499183  \n",
       "generosity    1.000000  0.294159  \n",
       "trust         0.294159  1.000000  "
      ]
     },
     "execution_count": 17,
     "metadata": {},
     "output_type": "execute_result"
    }
   ],
   "source": [
    "correlation"
   ]
  },
  {
   "cell_type": "code",
   "execution_count": 18,
   "metadata": {},
   "outputs": [
    {
     "data": {
      "text/plain": [
       "rank         -0.992774\n",
       "score         1.000000\n",
       "gdp_capita    0.812469\n",
       "family        0.752737\n",
       "health        0.781951\n",
       "freedom       0.570137\n",
       "generosity    0.155256\n",
       "trust         0.429080\n",
       "Name: score, dtype: float64"
      ]
     },
     "execution_count": 18,
     "metadata": {},
     "output_type": "execute_result"
    }
   ],
   "source": [
    "correlation['score']"
   ]
  },
  {
   "cell_type": "markdown",
   "metadata": {},
   "source": [
    "Strong positive correlation can be observed in all columns except generosity. Especially, gdp, family, and health have very strong correlatins with Happiness scores. "
   ]
  },
  {
   "cell_type": "code",
   "execution_count": 19,
   "metadata": {},
   "outputs": [
    {
     "data": {
      "text/plain": [
       "<matplotlib.axes._subplots.AxesSubplot at 0x15246e576a0>"
      ]
     },
     "execution_count": 19,
     "metadata": {},
     "output_type": "execute_result"
    },
    {
     "data": {
      "image/png": "[encoded data removed]",
      "text/plain": [
       "<Figure size 720x720 with 2 Axes>"
      ]
     },
     "metadata": {
      "needs_background": "light"
     },
     "output_type": "display_data"
    }
   ],
   "source": [
    "#for practice purposes, I also visualize the corrlation with heatmap. \n",
    "figure = plt.figure(figsize=(10,10))\n",
    "sns.heatmap(correlation, annot = True)"
   ]
  },
  {
   "cell_type": "markdown",
   "metadata": {},
   "source": [
    "Given the scatter plots and correlation between Happiness score and each of six factors, strong and positive correlations can be observed in relationships between the score and six factors except generosity. \n",
    "Especially, gdp_capta, family, and health have very high correlation. Therefore, since the factors express the extent to which they contribute to making life evaluation higher, we can see a trend that more happier countries become, more influential to life evaluation the three factors become. In simpler words, in happy countries, the facotors are likely to be main factors to make the countries happier they are in dystopia. \n",
    "Since correlation cannot describe causality, I am not sure that increasing in those factors can make people happier. However, if there is an increase in one or more of the factors, people are likely to be happier. \n",
    "Thus, the answer for the first question is that all factors except generosity are likely to strongly contribute to making life evaluation higher. Especially, gdp, family, and health are really influential. \n",
    "However, I am not sure they 'CAUSE' the increase of life evaluation. "
   ]
  },
  {
   "cell_type": "markdown",
   "metadata": {},
   "source": [
    "## Average Happiness Score by Regions##"
   ]
  },
  {
   "cell_type": "markdown",
   "metadata": {},
   "source": [
    "2017 happiness score dataset does not have a column describing countries' regions, but 2015 happiness dataset have a region column. So, I will add the region column to the 2017 dataset based on the 2015dataset. You can access to the dataset from the link I attached in the first cell. "
   ]
  },
  {
   "cell_type": "code",
   "execution_count": 20,
   "metadata": {},
   "outputs": [],
   "source": [
    "happiness2015 = pd.read_csv('2015.csv')"
   ]
  },
  {
   "cell_type": "code",
   "execution_count": 21,
   "metadata": {},
   "outputs": [
    {
     "data": {
      "text/plain": [
       "(158, 12)"
      ]
     },
     "execution_count": 21,
     "metadata": {},
     "output_type": "execute_result"
    }
   ],
   "source": [
    "happiness2015.shape"
   ]
  },
  {
   "cell_type": "code",
   "execution_count": 22,
   "metadata": {},
   "outputs": [
    {
     "data": {
      "text/html": [
       "<div>\n",
       "<style scoped>\n",
       "    .dataframe tbody tr th:only-of-type {\n",
       "        vertical-align: middle;\n",
       "    }\n",
       "\n",
       "    .dataframe tbody tr th {\n",
       "        vertical-align: top;\n",
       "    }\n",
       "\n",
       "    .dataframe thead th {\n",
       "        text-align: right;\n",
       "    }\n",
       "</style>\n",
       "<table border=\"1\" class=\"dataframe\">\n",
       "  <thead>\n",
       "    <tr style=\"text-align: right;\">\n",
       "      <th></th>\n",
       "      <th>Country</th>\n",
       "      <th>Region</th>\n",
       "      <th>Happiness Rank</th>\n",
       "      <th>Happiness Score</th>\n",
       "      <th>Standard Error</th>\n",
       "      <th>Economy (GDP per Capita)</th>\n",
       "      <th>Family</th>\n",
       "      <th>Health (Life Expectancy)</th>\n",
       "      <th>Freedom</th>\n",
       "      <th>Trust (Government Corruption)</th>\n",
       "      <th>Generosity</th>\n",
       "      <th>Dystopia Residual</th>\n",
       "    </tr>\n",
       "  </thead>\n",
       "  <tbody>\n",
       "    <tr>\n",
       "      <th>0</th>\n",
       "      <td>Switzerland</td>\n",
       "      <td>Western Europe</td>\n",
       "      <td>1</td>\n",
       "      <td>7.587</td>\n",
       "      <td>0.03411</td>\n",
       "      <td>1.39651</td>\n",
       "      <td>1.34951</td>\n",
       "      <td>0.94143</td>\n",
       "      <td>0.66557</td>\n",
       "      <td>0.41978</td>\n",
       "      <td>0.29678</td>\n",
       "      <td>2.51738</td>\n",
       "    </tr>\n",
       "    <tr>\n",
       "      <th>1</th>\n",
       "      <td>Iceland</td>\n",
       "      <td>Western Europe</td>\n",
       "      <td>2</td>\n",
       "      <td>7.561</td>\n",
       "      <td>0.04884</td>\n",
       "      <td>1.30232</td>\n",
       "      <td>1.40223</td>\n",
       "      <td>0.94784</td>\n",
       "      <td>0.62877</td>\n",
       "      <td>0.14145</td>\n",
       "      <td>0.43630</td>\n",
       "      <td>2.70201</td>\n",
       "    </tr>\n",
       "    <tr>\n",
       "      <th>2</th>\n",
       "      <td>Denmark</td>\n",
       "      <td>Western Europe</td>\n",
       "      <td>3</td>\n",
       "      <td>7.527</td>\n",
       "      <td>0.03328</td>\n",
       "      <td>1.32548</td>\n",
       "      <td>1.36058</td>\n",
       "      <td>0.87464</td>\n",
       "      <td>0.64938</td>\n",
       "      <td>0.48357</td>\n",
       "      <td>0.34139</td>\n",
       "      <td>2.49204</td>\n",
       "    </tr>\n",
       "    <tr>\n",
       "      <th>3</th>\n",
       "      <td>Norway</td>\n",
       "      <td>Western Europe</td>\n",
       "      <td>4</td>\n",
       "      <td>7.522</td>\n",
       "      <td>0.03880</td>\n",
       "      <td>1.45900</td>\n",
       "      <td>1.33095</td>\n",
       "      <td>0.88521</td>\n",
       "      <td>0.66973</td>\n",
       "      <td>0.36503</td>\n",
       "      <td>0.34699</td>\n",
       "      <td>2.46531</td>\n",
       "    </tr>\n",
       "    <tr>\n",
       "      <th>4</th>\n",
       "      <td>Canada</td>\n",
       "      <td>North America</td>\n",
       "      <td>5</td>\n",
       "      <td>7.427</td>\n",
       "      <td>0.03553</td>\n",
       "      <td>1.32629</td>\n",
       "      <td>1.32261</td>\n",
       "      <td>0.90563</td>\n",
       "      <td>0.63297</td>\n",
       "      <td>0.32957</td>\n",
       "      <td>0.45811</td>\n",
       "      <td>2.45176</td>\n",
       "    </tr>\n",
       "  </tbody>\n",
       "</table>\n",
       "</div>"
      ],
      "text/plain": [
       "       Country          Region  Happiness Rank  Happiness Score  \\\n",
       "0  Switzerland  Western Europe               1            7.587   \n",
       "1      Iceland  Western Europe               2            7.561   \n",
       "2      Denmark  Western Europe               3            7.527   \n",
       "3       Norway  Western Europe               4            7.522   \n",
       "4       Canada   North America               5            7.427   \n",
       "\n",
       "   Standard Error  Economy (GDP per Capita)   Family  \\\n",
       "0         0.03411                   1.39651  1.34951   \n",
       "1         0.04884                   1.30232  1.40223   \n",
       "2         0.03328                   1.32548  1.36058   \n",
       "3         0.03880                   1.45900  1.33095   \n",
       "4         0.03553                   1.32629  1.32261   \n",
       "\n",
       "   Health (Life Expectancy)  Freedom  Trust (Government Corruption)  \\\n",
       "0                   0.94143  0.66557                        0.41978   \n",
       "1                   0.94784  0.62877                        0.14145   \n",
       "2                   0.87464  0.64938                        0.48357   \n",
       "3                   0.88521  0.66973                        0.36503   \n",
       "4                   0.90563  0.63297                        0.32957   \n",
       "\n",
       "   Generosity  Dystopia Residual  \n",
       "0     0.29678            2.51738  \n",
       "1     0.43630            2.70201  \n",
       "2     0.34139            2.49204  \n",
       "3     0.34699            2.46531  \n",
       "4     0.45811            2.45176  "
      ]
     },
     "execution_count": 22,
     "metadata": {},
     "output_type": "execute_result"
    }
   ],
   "source": [
    "happiness2015.head()"
   ]
  },
  {
   "cell_type": "code",
   "execution_count": 23,
   "metadata": {},
   "outputs": [],
   "source": [
    "check = happiness2017['country'].isin(happiness2015['Country'])"
   ]
  },
  {
   "cell_type": "code",
   "execution_count": 24,
   "metadata": {},
   "outputs": [
    {
     "data": {
      "text/html": [
       "<div>\n",
       "<style scoped>\n",
       "    .dataframe tbody tr th:only-of-type {\n",
       "        vertical-align: middle;\n",
       "    }\n",
       "\n",
       "    .dataframe tbody tr th {\n",
       "        vertical-align: top;\n",
       "    }\n",
       "\n",
       "    .dataframe thead th {\n",
       "        text-align: right;\n",
       "    }\n",
       "</style>\n",
       "<table border=\"1\" class=\"dataframe\">\n",
       "  <thead>\n",
       "    <tr style=\"text-align: right;\">\n",
       "      <th></th>\n",
       "      <th>country</th>\n",
       "      <th>rank</th>\n",
       "      <th>score</th>\n",
       "      <th>gdp_capita</th>\n",
       "      <th>family</th>\n",
       "      <th>health</th>\n",
       "      <th>freedom</th>\n",
       "      <th>generosity</th>\n",
       "      <th>trust</th>\n",
       "    </tr>\n",
       "  </thead>\n",
       "  <tbody>\n",
       "    <tr>\n",
       "      <th>32</th>\n",
       "      <td>Taiwan Province of China</td>\n",
       "      <td>33</td>\n",
       "      <td>6.422</td>\n",
       "      <td>1.433627</td>\n",
       "      <td>1.384565</td>\n",
       "      <td>0.793984</td>\n",
       "      <td>0.361467</td>\n",
       "      <td>0.258360</td>\n",
       "      <td>0.063829</td>\n",
       "    </tr>\n",
       "    <tr>\n",
       "      <th>49</th>\n",
       "      <td>Belize</td>\n",
       "      <td>50</td>\n",
       "      <td>5.956</td>\n",
       "      <td>0.907975</td>\n",
       "      <td>1.081418</td>\n",
       "      <td>0.450192</td>\n",
       "      <td>0.547509</td>\n",
       "      <td>0.240016</td>\n",
       "      <td>0.096581</td>\n",
       "    </tr>\n",
       "    <tr>\n",
       "      <th>70</th>\n",
       "      <td>Hong Kong S.A.R., China</td>\n",
       "      <td>71</td>\n",
       "      <td>5.472</td>\n",
       "      <td>1.551675</td>\n",
       "      <td>1.262791</td>\n",
       "      <td>0.943062</td>\n",
       "      <td>0.490969</td>\n",
       "      <td>0.374466</td>\n",
       "      <td>0.293934</td>\n",
       "    </tr>\n",
       "    <tr>\n",
       "      <th>92</th>\n",
       "      <td>Somalia</td>\n",
       "      <td>93</td>\n",
       "      <td>5.151</td>\n",
       "      <td>0.022643</td>\n",
       "      <td>0.721151</td>\n",
       "      <td>0.113989</td>\n",
       "      <td>0.602127</td>\n",
       "      <td>0.291631</td>\n",
       "      <td>0.282410</td>\n",
       "    </tr>\n",
       "    <tr>\n",
       "      <th>110</th>\n",
       "      <td>Namibia</td>\n",
       "      <td>111</td>\n",
       "      <td>4.574</td>\n",
       "      <td>0.964434</td>\n",
       "      <td>1.098471</td>\n",
       "      <td>0.338612</td>\n",
       "      <td>0.520304</td>\n",
       "      <td>0.077134</td>\n",
       "      <td>0.093147</td>\n",
       "    </tr>\n",
       "    <tr>\n",
       "      <th>146</th>\n",
       "      <td>South Sudan</td>\n",
       "      <td>147</td>\n",
       "      <td>3.591</td>\n",
       "      <td>0.397249</td>\n",
       "      <td>0.601323</td>\n",
       "      <td>0.163486</td>\n",
       "      <td>0.147062</td>\n",
       "      <td>0.285671</td>\n",
       "      <td>0.116794</td>\n",
       "    </tr>\n",
       "  </tbody>\n",
       "</table>\n",
       "</div>"
      ],
      "text/plain": [
       "                      country  rank  score  gdp_capita    family    health  \\\n",
       "32   Taiwan Province of China    33  6.422    1.433627  1.384565  0.793984   \n",
       "49                     Belize    50  5.956    0.907975  1.081418  0.450192   \n",
       "70    Hong Kong S.A.R., China    71  5.472    1.551675  1.262791  0.943062   \n",
       "92                    Somalia    93  5.151    0.022643  0.721151  0.113989   \n",
       "110                   Namibia   111  4.574    0.964434  1.098471  0.338612   \n",
       "146               South Sudan   147  3.591    0.397249  0.601323  0.163486   \n",
       "\n",
       "      freedom  generosity     trust  \n",
       "32   0.361467    0.258360  0.063829  \n",
       "49   0.547509    0.240016  0.096581  \n",
       "70   0.490969    0.374466  0.293934  \n",
       "92   0.602127    0.291631  0.282410  \n",
       "110  0.520304    0.077134  0.093147  \n",
       "146  0.147062    0.285671  0.116794  "
      ]
     },
     "execution_count": 24,
     "metadata": {},
     "output_type": "execute_result"
    }
   ],
   "source": [
    "happiness2017[~check]"
   ]
  },
  {
   "cell_type": "markdown",
   "metadata": {},
   "source": [
    "Some countries in happiness2017 do not exist in hapiness2015. However, the number of them is small. Therefore, I will not lose significant amount of data when I combine two datasets. "
   ]
  },
  {
   "cell_type": "code",
   "execution_count": 25,
   "metadata": {},
   "outputs": [],
   "source": [
    "happiness2015.columns = happiness2015.columns.str.lower()"
   ]
  },
  {
   "cell_type": "code",
   "execution_count": 26,
   "metadata": {},
   "outputs": [
    {
     "data": {
      "text/html": [
       "<div>\n",
       "<style scoped>\n",
       "    .dataframe tbody tr th:only-of-type {\n",
       "        vertical-align: middle;\n",
       "    }\n",
       "\n",
       "    .dataframe tbody tr th {\n",
       "        vertical-align: top;\n",
       "    }\n",
       "\n",
       "    .dataframe thead th {\n",
       "        text-align: right;\n",
       "    }\n",
       "</style>\n",
       "<table border=\"1\" class=\"dataframe\">\n",
       "  <thead>\n",
       "    <tr style=\"text-align: right;\">\n",
       "      <th></th>\n",
       "      <th>country</th>\n",
       "      <th>region</th>\n",
       "    </tr>\n",
       "  </thead>\n",
       "  <tbody>\n",
       "    <tr>\n",
       "      <th>0</th>\n",
       "      <td>Switzerland</td>\n",
       "      <td>Western Europe</td>\n",
       "    </tr>\n",
       "    <tr>\n",
       "      <th>1</th>\n",
       "      <td>Iceland</td>\n",
       "      <td>Western Europe</td>\n",
       "    </tr>\n",
       "    <tr>\n",
       "      <th>2</th>\n",
       "      <td>Denmark</td>\n",
       "      <td>Western Europe</td>\n",
       "    </tr>\n",
       "    <tr>\n",
       "      <th>3</th>\n",
       "      <td>Norway</td>\n",
       "      <td>Western Europe</td>\n",
       "    </tr>\n",
       "    <tr>\n",
       "      <th>4</th>\n",
       "      <td>Canada</td>\n",
       "      <td>North America</td>\n",
       "    </tr>\n",
       "  </tbody>\n",
       "</table>\n",
       "</div>"
      ],
      "text/plain": [
       "       country          region\n",
       "0  Switzerland  Western Europe\n",
       "1      Iceland  Western Europe\n",
       "2      Denmark  Western Europe\n",
       "3       Norway  Western Europe\n",
       "4       Canada   North America"
      ]
     },
     "execution_count": 26,
     "metadata": {},
     "output_type": "execute_result"
    }
   ],
   "source": [
    "happiness2015[['country','region']].head()"
   ]
  },
  {
   "cell_type": "code",
   "execution_count": 27,
   "metadata": {},
   "outputs": [],
   "source": [
    "happiness2017_region = pd.merge(happiness2017,happiness2015[['country','region']], on='country')"
   ]
  },
  {
   "cell_type": "markdown",
   "metadata": {},
   "source": [
    "Merging(inner mergin) happiness2015 and happiness2017 datasets based on 'country' column. "
   ]
  },
  {
   "cell_type": "code",
   "execution_count": 28,
   "metadata": {},
   "outputs": [],
   "source": [
    "region_score = happiness2017_region.groupby('region',as_index=False)['score'].mean().sort_values(ascending=False,by='score')"
   ]
  },
  {
   "cell_type": "code",
   "execution_count": 29,
   "metadata": {},
   "outputs": [
    {
     "data": {
      "text/html": [
       "<div>\n",
       "<style scoped>\n",
       "    .dataframe tbody tr th:only-of-type {\n",
       "        vertical-align: middle;\n",
       "    }\n",
       "\n",
       "    .dataframe tbody tr th {\n",
       "        vertical-align: top;\n",
       "    }\n",
       "\n",
       "    .dataframe thead th {\n",
       "        text-align: right;\n",
       "    }\n",
       "</style>\n",
       "<table border=\"1\" class=\"dataframe\">\n",
       "  <thead>\n",
       "    <tr style=\"text-align: right;\">\n",
       "      <th></th>\n",
       "      <th>region</th>\n",
       "      <th>score</th>\n",
       "    </tr>\n",
       "  </thead>\n",
       "  <tbody>\n",
       "    <tr>\n",
       "      <th>0</th>\n",
       "      <td>Australia and New Zealand</td>\n",
       "      <td>7.299000</td>\n",
       "    </tr>\n",
       "    <tr>\n",
       "      <th>5</th>\n",
       "      <td>North America</td>\n",
       "      <td>7.154500</td>\n",
       "    </tr>\n",
       "    <tr>\n",
       "      <th>9</th>\n",
       "      <td>Western Europe</td>\n",
       "      <td>6.703714</td>\n",
       "    </tr>\n",
       "    <tr>\n",
       "      <th>3</th>\n",
       "      <td>Latin America and Caribbean</td>\n",
       "      <td>5.957905</td>\n",
       "    </tr>\n",
       "    <tr>\n",
       "      <th>2</th>\n",
       "      <td>Eastern Asia</td>\n",
       "      <td>5.496500</td>\n",
       "    </tr>\n",
       "    <tr>\n",
       "      <th>6</th>\n",
       "      <td>Southeastern Asia</td>\n",
       "      <td>5.444875</td>\n",
       "    </tr>\n",
       "    <tr>\n",
       "      <th>1</th>\n",
       "      <td>Central and Eastern Europe</td>\n",
       "      <td>5.409931</td>\n",
       "    </tr>\n",
       "    <tr>\n",
       "      <th>4</th>\n",
       "      <td>Middle East and Northern Africa</td>\n",
       "      <td>5.369684</td>\n",
       "    </tr>\n",
       "    <tr>\n",
       "      <th>7</th>\n",
       "      <td>Southern Asia</td>\n",
       "      <td>4.628429</td>\n",
       "    </tr>\n",
       "    <tr>\n",
       "      <th>8</th>\n",
       "      <td>Sub-Saharan Africa</td>\n",
       "      <td>4.084722</td>\n",
       "    </tr>\n",
       "  </tbody>\n",
       "</table>\n",
       "</div>"
      ],
      "text/plain": [
       "                            region     score\n",
       "0        Australia and New Zealand  7.299000\n",
       "5                    North America  7.154500\n",
       "9                   Western Europe  6.703714\n",
       "3      Latin America and Caribbean  5.957905\n",
       "2                     Eastern Asia  5.496500\n",
       "6                Southeastern Asia  5.444875\n",
       "1       Central and Eastern Europe  5.409931\n",
       "4  Middle East and Northern Africa  5.369684\n",
       "7                    Southern Asia  4.628429\n",
       "8               Sub-Saharan Africa  4.084722"
      ]
     },
     "execution_count": 29,
     "metadata": {},
     "output_type": "execute_result"
    }
   ],
   "source": [
    "region_score"
   ]
  },
  {
   "cell_type": "markdown",
   "metadata": {},
   "source": [
    "Grouping data based on regions and culculating mean of happiness score in each region. Then, I sort the resulting dataset by the average score. "
   ]
  },
  {
   "cell_type": "code",
   "execution_count": 30,
   "metadata": {},
   "outputs": [
    {
     "data": {
      "text/plain": [
       "<matplotlib.axes._subplots.AxesSubplot at 0x152467c2780>"
      ]
     },
     "execution_count": 30,
     "metadata": {},
     "output_type": "execute_result"
    },
    {
     "data": {
      "image/png": "[encoded data removed]",
      "text/plain": [
       "<Figure size 720x720 with 1 Axes>"
      ]
     },
     "metadata": {
      "needs_background": "light"
     },
     "output_type": "display_data"
    }
   ],
   "source": [
    "region_score.plot.barh(x='region',y='score',figsize=(10,10))"
   ]
  },
  {
   "cell_type": "markdown",
   "metadata": {},
   "source": [
    "It can be observed that \"North America\" and \"Aurstralia and New Zealand\" regions have very high happiness scores on average. (sheeps are really great, I love them) "
   ]
  },
  {
   "cell_type": "markdown",
   "metadata": {},
   "source": [
    "## Contributing Factors by Regions##"
   ]
  },
  {
   "cell_type": "code",
   "execution_count": 31,
   "metadata": {},
   "outputs": [],
   "source": [
    "happiness2017_avg = happiness2017_region.groupby('region',as_index=False).mean()"
   ]
  },
  {
   "cell_type": "code",
   "execution_count": 32,
   "metadata": {},
   "outputs": [],
   "source": [
    "happiness2017_avg = happiness2017_avg.sort_values(by='score',ascending=False).set_index('region')"
   ]
  },
  {
   "cell_type": "code",
   "execution_count": 33,
   "metadata": {},
   "outputs": [
    {
     "data": {
      "text/html": [
       "<div>\n",
       "<style scoped>\n",
       "    .dataframe tbody tr th:only-of-type {\n",
       "        vertical-align: middle;\n",
       "    }\n",
       "\n",
       "    .dataframe tbody tr th {\n",
       "        vertical-align: top;\n",
       "    }\n",
       "\n",
       "    .dataframe thead th {\n",
       "        text-align: right;\n",
       "    }\n",
       "</style>\n",
       "<table border=\"1\" class=\"dataframe\">\n",
       "  <thead>\n",
       "    <tr style=\"text-align: right;\">\n",
       "      <th></th>\n",
       "      <th>rank</th>\n",
       "      <th>score</th>\n",
       "      <th>gdp_capita</th>\n",
       "      <th>family</th>\n",
       "      <th>health</th>\n",
       "      <th>freedom</th>\n",
       "      <th>generosity</th>\n",
       "      <th>trust</th>\n",
       "    </tr>\n",
       "    <tr>\n",
       "      <th>region</th>\n",
       "      <th></th>\n",
       "      <th></th>\n",
       "      <th></th>\n",
       "      <th></th>\n",
       "      <th></th>\n",
       "      <th></th>\n",
       "      <th></th>\n",
       "      <th></th>\n",
       "    </tr>\n",
       "  </thead>\n",
       "  <tbody>\n",
       "    <tr>\n",
       "      <th>Australia and New Zealand</th>\n",
       "      <td>9.000000</td>\n",
       "      <td>7.299000</td>\n",
       "      <td>1.445060</td>\n",
       "      <td>1.529119</td>\n",
       "      <td>0.830323</td>\n",
       "      <td>0.607835</td>\n",
       "      <td>0.488852</td>\n",
       "      <td>0.342000</td>\n",
       "    </tr>\n",
       "    <tr>\n",
       "      <th>North America</th>\n",
       "      <td>10.500000</td>\n",
       "      <td>7.154500</td>\n",
       "      <td>1.512732</td>\n",
       "      <td>1.450635</td>\n",
       "      <td>0.804422</td>\n",
       "      <td>0.558421</td>\n",
       "      <td>0.414059</td>\n",
       "      <td>0.211505</td>\n",
       "    </tr>\n",
       "    <tr>\n",
       "      <th>Western Europe</th>\n",
       "      <td>27.142857</td>\n",
       "      <td>6.703714</td>\n",
       "      <td>1.457411</td>\n",
       "      <td>1.444946</td>\n",
       "      <td>0.824673</td>\n",
       "      <td>0.515125</td>\n",
       "      <td>0.303497</td>\n",
       "      <td>0.218999</td>\n",
       "    </tr>\n",
       "    <tr>\n",
       "      <th>Latin America and Caribbean</th>\n",
       "      <td>50.809524</td>\n",
       "      <td>5.957905</td>\n",
       "      <td>1.011695</td>\n",
       "      <td>1.300096</td>\n",
       "      <td>0.618667</td>\n",
       "      <td>0.444541</td>\n",
       "      <td>0.209300</td>\n",
       "      <td>0.087344</td>\n",
       "    </tr>\n",
       "    <tr>\n",
       "      <th>Eastern Asia</th>\n",
       "      <td>71.250000</td>\n",
       "      <td>5.496500</td>\n",
       "      <td>1.231749</td>\n",
       "      <td>1.304615</td>\n",
       "      <td>0.778222</td>\n",
       "      <td>0.407620</td>\n",
       "      <td>0.173630</td>\n",
       "      <td>0.070685</td>\n",
       "    </tr>\n",
       "    <tr>\n",
       "      <th>Southeastern Asia</th>\n",
       "      <td>73.750000</td>\n",
       "      <td>5.444875</td>\n",
       "      <td>0.965253</td>\n",
       "      <td>1.249948</td>\n",
       "      <td>0.581918</td>\n",
       "      <td>0.534971</td>\n",
       "      <td>0.449860</td>\n",
       "      <td>0.127591</td>\n",
       "    </tr>\n",
       "    <tr>\n",
       "      <th>Central and Eastern Europe</th>\n",
       "      <td>75.068966</td>\n",
       "      <td>5.409931</td>\n",
       "      <td>1.092051</td>\n",
       "      <td>1.282285</td>\n",
       "      <td>0.636090</td>\n",
       "      <td>0.346609</td>\n",
       "      <td>0.186116</td>\n",
       "      <td>0.079620</td>\n",
       "    </tr>\n",
       "    <tr>\n",
       "      <th>Middle East and Northern Africa</th>\n",
       "      <td>76.421053</td>\n",
       "      <td>5.369684</td>\n",
       "      <td>1.168535</td>\n",
       "      <td>1.095511</td>\n",
       "      <td>0.605980</td>\n",
       "      <td>0.363768</td>\n",
       "      <td>0.199172</td>\n",
       "      <td>0.149084</td>\n",
       "    </tr>\n",
       "    <tr>\n",
       "      <th>Southern Asia</th>\n",
       "      <td>109.857143</td>\n",
       "      <td>4.628429</td>\n",
       "      <td>0.697479</td>\n",
       "      <td>0.931875</td>\n",
       "      <td>0.456658</td>\n",
       "      <td>0.398971</td>\n",
       "      <td>0.341446</td>\n",
       "      <td>0.103066</td>\n",
       "    </tr>\n",
       "    <tr>\n",
       "      <th>Sub-Saharan Africa</th>\n",
       "      <td>128.777778</td>\n",
       "      <td>4.084722</td>\n",
       "      <td>0.505108</td>\n",
       "      <td>0.966164</td>\n",
       "      <td>0.226383</td>\n",
       "      <td>0.348350</td>\n",
       "      <td>0.230554</td>\n",
       "      <td>0.095284</td>\n",
       "    </tr>\n",
       "  </tbody>\n",
       "</table>\n",
       "</div>"
      ],
      "text/plain": [
       "                                       rank     score  gdp_capita    family  \\\n",
       "region                                                                        \n",
       "Australia and New Zealand          9.000000  7.299000    1.445060  1.529119   \n",
       "North America                     10.500000  7.154500    1.512732  1.450635   \n",
       "Western Europe                    27.142857  6.703714    1.457411  1.444946   \n",
       "Latin America and Caribbean       50.809524  5.957905    1.011695  1.300096   \n",
       "Eastern Asia                      71.250000  5.496500    1.231749  1.304615   \n",
       "Southeastern Asia                 73.750000  5.444875    0.965253  1.249948   \n",
       "Central and Eastern Europe        75.068966  5.409931    1.092051  1.282285   \n",
       "Middle East and Northern Africa   76.421053  5.369684    1.168535  1.095511   \n",
       "Southern Asia                    109.857143  4.628429    0.697479  0.931875   \n",
       "Sub-Saharan Africa               128.777778  4.084722    0.505108  0.966164   \n",
       "\n",
       "                                   health   freedom  generosity     trust  \n",
       "region                                                                     \n",
       "Australia and New Zealand        0.830323  0.607835    0.488852  0.342000  \n",
       "North America                    0.804422  0.558421    0.414059  0.211505  \n",
       "Western Europe                   0.824673  0.515125    0.303497  0.218999  \n",
       "Latin America and Caribbean      0.618667  0.444541    0.209300  0.087344  \n",
       "Eastern Asia                     0.778222  0.407620    0.173630  0.070685  \n",
       "Southeastern Asia                0.581918  0.534971    0.449860  0.127591  \n",
       "Central and Eastern Europe       0.636090  0.346609    0.186116  0.079620  \n",
       "Middle East and Northern Africa  0.605980  0.363768    0.199172  0.149084  \n",
       "Southern Asia                    0.456658  0.398971    0.341446  0.103066  \n",
       "Sub-Saharan Africa               0.226383  0.348350    0.230554  0.095284  "
      ]
     },
     "execution_count": 33,
     "metadata": {},
     "output_type": "execute_result"
    }
   ],
   "source": [
    "happiness2017_avg"
   ]
  },
  {
   "cell_type": "code",
   "execution_count": 36,
   "metadata": {},
   "outputs": [
    {
     "data": {
      "text/plain": [
       "<matplotlib.axes._subplots.AxesSubplot at 0x152471ce390>"
      ]
     },
     "execution_count": 36,
     "metadata": {},
     "output_type": "execute_result"
    },
    {
     "data": {
      "image/png": "[encoded data removed]",
      "text/plain": [
       "<Figure size 720x720 with 2 Axes>"
      ]
     },
     "metadata": {
      "needs_background": "light"
     },
     "output_type": "display_data"
    }
   ],
   "source": [
    "figure = figure = plt.figure(figsize=(10,10))\n",
    "sns.heatmap(happiness2017_avg[['gdp_capita','family','health','freedom','generosity','trust']], annot=True)"
   ]
  },
  {
   "cell_type": "markdown",
   "metadata": {},
   "source": [
    "When seeing this figure horizontally, we can see that in each region gdp_capita and family factors are main contributor to making life evaluation higher sicne they are brighter than other factors in the figure. However, in Southeastern Asia, it seems like that the difference in brightness between the two factors and other factos are slightly smaller than other regions. \n",
    "Therefore, I can argue that there are generally not unique factors contributing to making life evaluation higher in specific regions, but, in Southeastern Asia, freedom and generosity might have slightly more power to contribute to the increase of life evaluation than other regions. "
   ]
  }
 ],
 "metadata": {
  "kernelspec": {
   "display_name": "Python 3",
   "language": "python",
   "name": "python3"
  },
  "language_info": {
   "codemirror_mode": {
    "name": "ipython",
    "version": 3
   },
   "file_extension": ".py",
   "mimetype": "text/x-python",
   "name": "python",
   "nbconvert_exporter": "python",
   "pygments_lexer": "ipython3",
   "version": "3.7.3"
  }
 },
 "nbformat": 4,
 "nbformat_minor": 2
}
